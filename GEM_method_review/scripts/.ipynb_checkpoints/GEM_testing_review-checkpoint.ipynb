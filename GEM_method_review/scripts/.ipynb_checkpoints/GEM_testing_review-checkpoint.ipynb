{
 "cells": [
  {
   "cell_type": "code",
   "execution_count": 1,
   "metadata": {
    "collapsed": true
   },
   "outputs": [],
   "source": [
    "################################################\n",
    "#Based on code provided in SI of Swainston 2016#\n",
    "################################################\n",
    "\n",
    "import re\n",
    "import math\n",
    "import cobra\n",
    "import gurobipy\n",
    "\n",
    "\n",
    "def manipulate_id(ID):\n",
    "    #change sbml reaction IDs in cobra metabolite IDs\n",
    "    #example: maniupulate_id(\"EX_ca2(e)\")=\"ca2_e\"\n",
    "    ID=ID.strip(\")\")\n",
    "    ID=re.sub(\"EX_\",'',ID)\n",
    "    ID=re.sub(\"\\(\",\"_\",ID)\n",
    "    #print(med)\n",
    "    return(ID)\n",
    "\n",
    "\n",
    "def find_exchanges(metabolite):\n",
    "    #1 - retrieve metabolite object in cobra model\n",
    "    #2 - iterate through reactions associated with metabolite\n",
    "    #3 - find exchange rxn, return id if found or else return nothing\n",
    "    met=model.metabolites.get_by_id(metabolite)\n",
    "    count=0\n",
    "    for r in met.reactions:\n",
    "        ex=\"\"\n",
    "        ex=model.reactions.get_by_id(r.id)\n",
    "        if r.boundary==True:\n",
    "            #print( \"%s\\t%s\\t%s\" % (ex.id,ex.boundary,ex.reaction))\n",
    "            return(ex.id)\n",
    "            count+=1\n",
    "        else:\n",
    "            pass\n",
    "    if count==0:\n",
    "        print(\"No exchanges found\")\n",
    "\n",
    "def set_import_bounds(model, rxn_name_list, value):\n",
    "    '''Sets the import bounds.'''\n",
    "    #model = sbml.getModel()\n",
    "    # convert single entries to lists\n",
    "    if isinstance(rxn_name_list, str):\n",
    "        rxn_name_list = [rxn_name_list]\n",
    "    if isinstance(value, (int, float, complex)):\n",
    "        value = [value] * len(rxn_name_list)\n",
    "    for index, rID in enumerate(rxn_name_list):\n",
    "        try:\n",
    "            reaction= model.reactions.get_by_id(rID)\n",
    "            val = abs(value[index])\n",
    "            try:\n",
    "                reaction.lower_bound=-val\n",
    "            except:\n",
    "                pass\n",
    "                #print('reaction %s not import' % rID)\n",
    "        except:\n",
    "            pass\n",
    "            #print('reaction %s not found' % rID)\n",
    "\n",
    "def set_infinite_bounds(model):\n",
    "    #set infinite bounds\n",
    "    for r in model.reactions:\n",
    "        r.lower_bound=-1e6\n",
    "        r.upper_bound=1e6\n",
    "def block_imports(model):\n",
    "    #block import reactions\n",
    "    for r in model.exchanges:\n",
    "        #nR, nP = 0, 0\n",
    "        model.reactions.get_by_id(r.id).lower_bound=0\n",
    "def max_flux(model,normoxic,media,carbon_source):\n",
    "    set_infinite_bounds(model)\n",
    "    block_imports(model)\n",
    "    if normoxic:\n",
    "            model.reactions.get_by_id('EX_o2_LPAREN_e_RPAREN_').lower_bound=-1e6           \n",
    "    set_import_bounds(model,carbon_source,1)\n",
    "    set_import_bounds(model,new_media,-1e6) \n",
    "    model.optimize()\n",
    "    pfba=cobra.flux_analysis.pfba(model)\n",
    "    #loopless=cobra.flux_analysis.loopless_solution(model)\n",
    "    #print(loopless\n",
    "    #print(model.summary())\n",
    "    print(model.summary(pfba))"
   ]
  },
  {
   "cell_type": "code",
   "execution_count": 2,
   "metadata": {},
   "outputs": [
    {
     "name": "stderr",
     "output_type": "stream",
     "text": [
      "cobra/io/sbml.py:235 \u001b[1;31mUserWarning\u001b[0m: M_h_x appears as a reactant and product FAOXC220200x\n"
     ]
    }
   ],
   "source": [
    "#read in cobra based model saved in sbml format\n",
    "model = cobra.io.read_sbml_model(\"../GEMs/recon2_2.xml\")"
   ]
  },
  {
   "cell_type": "code",
   "execution_count": 3,
   "metadata": {
    "collapsed": true,
    "scrolled": true
   },
   "outputs": [],
   "source": [
    "new_media=[]\n",
    "new_carbons=[]\n",
    "new_carbons.append(find_exchanges(\"glc_D_e\"))\n",
    "not_found=[]\n",
    "media = [\n",
    "        'EX_ca2(e)',\n",
    "        'EX_cl(e)',\n",
    "        'EX_fe2(e)',\n",
    "        'EX_fe3(e)',\n",
    "        'EX_h(e)',\n",
    "        'EX_h2o(e)',\n",
    "        'EX_k(e)',\n",
    "        'EX_na1(e)',\n",
    "        'EX_nh4(e)',\n",
    "        'EX_so4(e)',\n",
    "        'EX_pi(e)'\n",
    "    ]\n",
    "\n",
    "#print(\"Media\\n\")\n",
    "\n",
    "for med in media:\n",
    "    med=med.strip(\")\")\n",
    "    med=re.sub(\"EX_\",'',med)\n",
    "    med=re.sub(\"\\(\",\"_\",med)\n",
    "    #print(med)\n",
    "    new_media.append(find_exchanges(med))\n",
    "\n",
    "#print(\"\\n\")\n",
    "#print(\"Carbon Sources\\n\")\n",
    "\n",
    "for carbon_source in [\n",
    "                # sugars\n",
    "                'EX_glc(e)',\n",
    "                'EX_fru(e)',\n",
    "                # fatty acids\n",
    "                'EX_ppa(e)',        # C3:0\n",
    "                'EX_but(e)',        # C4:0\n",
    "                'EX_hx(e)',         # C6:0\n",
    "                'EX_octa(e)',       # C8:0\n",
    "                'EX_HC02175(e)',    # C10:0\n",
    "                'EX_HC02176(e)',    # C12:0\n",
    "                'EX_ttdca(e)',      # C14:0\n",
    "                'EX_hdca(e)',       # C16:0\n",
    "                'EX_ocdca(e)',      # C18:0\n",
    "                'EX_arach(e)',      # C20:0\n",
    "                'EX_docosac_',      # C22:0\n",
    "                'EX_lgnc(e)',       # C24:0\n",
    "                'EX_hexc(e)',       # C26:0\n",
    "                # amino acids\n",
    "                'EX_ala_L(e)',\n",
    "                'EX_arg_L(e)',\n",
    "                'EX_asn_L(e)',\n",
    "                'EX_asp_L(e)',\n",
    "                'EX_cys_L(e)',\n",
    "                'EX_gln_L(e)',\n",
    "                'EX_glu_L(e)',\n",
    "                'EX_gly(e)',\n",
    "                'EX_his_L(e)',\n",
    "                'EX_ile_L(e)',\n",
    "                'EX_leu_L(e)',\n",
    "                'EX_lys_L(e)',\n",
    "                'EX_met_L(e)',\n",
    "                'EX_phe_L(e)',\n",
    "                'EX_pro_L(e)',\n",
    "                'EX_ser_L(e)',\n",
    "                'EX_thr_L(e)',\n",
    "                'EX_trp_L(e)',\n",
    "                'EX_tyr_L(e)',\n",
    "                'EX_val_L(e)',\n",
    "        ]:\n",
    "    try:\n",
    "        new_id=manipulate_id(carbon_source)\n",
    "        new_carbons.append(find_exchanges(new_id))\n",
    "    except:\n",
    "        pass\n",
    "        #print(\"%s\\t%s\" % (new_id,\"Did not work with find_exchanges\"))\n",
    "        #not_found.append(new_id)\n",
    "#print(new_carbons,\"\\n\",not_found)\n",
    "\n",
    "\n",
    "#not_found.remove(\"glc_e\")\n",
    "new_carbons.append(find_exchanges(\"dca_e\"))\n",
    "#not_found.remove('HC02175_e')\n",
    "new_carbons.append(find_exchanges(\"ddca_e\"))\n",
    "#not_found.remove('HC02176_e')\n",
    "new_carbons.append(find_exchanges('docosac_e'))\n",
    "#not_found.remove('docosac_')\n",
    "\n",
    "#print(new_carbons,not_found)"
   ]
  },
  {
   "cell_type": "code",
   "execution_count": 4,
   "metadata": {},
   "outputs": [
    {
     "name": "stdout",
     "output_type": "stream",
     "text": [
      "IN FLUXES    OUT FLUXES    OBJECTIVES\n",
      "-----------  ------------  ----------------\n",
      "                           DM_atp_c_  1e+06\n",
      "None\n"
     ]
    }
   ],
   "source": [
    "#objective = 'DM_atp_c_'\n",
    "\n",
    "model.objective='DM_atp_c_'\n",
    "#model.objective='r0173'\n",
    "#model.objective='EX_atp_LPAREN_e_RPAREN_'\n",
    "model.objective.direction='max'\n",
    "model.solver='gurobi'\n",
    "max_flux(model,True,new_media,new_carbons[0])"
   ]
  },
  {
   "cell_type": "code",
   "execution_count": null,
   "metadata": {},
   "outputs": [
    {
     "name": "stdout",
     "output_type": "stream",
     "text": [
      "IN FLUXES    OUT FLUXES    OBJECTIVES\n",
      "-----------  ------------  ----------------\n",
      "                           DM_atp_c_  1e+06\n",
      "None\n"
     ]
    }
   ],
   "source": [
    "test=cobra.io.read_sbml_model('../GEMs/0349f526-7816-4a7d-9967-1f75dd9ff00a.xml')\n",
    "#test.objective='r0173'\n",
    "#test.objective='EX_atp_LPAREN_e_RPAREN_'\n",
    "test.add_reaction(model.reactions.DM_atp_c_)\n",
    "test.objective=test.reactions.DM_atp_c_.id\n",
    "test.objective.direction=\"max\"\n",
    "#test.objective.\n",
    "test.solver='gurobi'\n",
    "max_flux(test,True,new_media,new_carbons[0])"
   ]
  },
  {
   "cell_type": "code",
   "execution_count": null,
   "metadata": {},
   "outputs": [
    {
     "name": "stdout",
     "output_type": "stream",
     "text": [
      "[<Metabolite glc_D_e at 0x7f1433bbcba8>]\n",
      "IN FLUXES    OUT FLUXES    OBJECTIVES\n",
      "-----------  ------------  ----------------\n",
      "                           DM_atp_c_  1e+06\n",
      "None\n",
      "[<Metabolite fru_e at 0x7f142d19e8d0>]\n",
      "IN FLUXES    OUT FLUXES    OBJECTIVES\n",
      "-----------  ------------  ----------------\n",
      "                           DM_atp_c_  1e+06\n",
      "None\n",
      "Carbon not found [<Metabolite ppa_e at 0x7f14393f7be0>]\n",
      "Carbon not found [<Metabolite but_e at 0x7f14396ce358>]\n",
      "[<Metabolite hx_e at 0x7f14273ef5c0>]\n",
      "IN FLUXES    OUT FLUXES    OBJECTIVES\n",
      "-----------  ------------  ----------------\n",
      "                           DM_atp_c_  1e+06\n",
      "None\n",
      "[<Metabolite octa_e at 0x7f14250c52e8>]\n",
      "IN FLUXES    OUT FLUXES    OBJECTIVES\n",
      "-----------  ------------  ----------------\n",
      "                           DM_atp_c_  1e+06\n",
      "None\n",
      "Carbon not found [<Metabolite ttdca_e at 0x7f14393c30f0>]\n",
      "[<Metabolite hdca_e at 0x7f1426ee2eb8>]\n",
      "IN FLUXES    OUT FLUXES    OBJECTIVES\n",
      "-----------  ------------  ----------------\n",
      "                           DM_atp_c_  1e+06\n",
      "None\n",
      "[<Metabolite ocdca_e at 0x7f141f6327b8>]\n",
      "IN FLUXES    OUT FLUXES    OBJECTIVES\n",
      "-----------  ------------  ----------------\n",
      "                           DM_atp_c_  1e+06\n",
      "None\n",
      "[<Metabolite arach_e at 0x7f14241cf160>]\n",
      "IN FLUXES    OUT FLUXES    OBJECTIVES\n",
      "-----------  ------------  ----------------\n",
      "                           DM_atp_c_  1e+06\n",
      "None\n",
      "Carbon not found [<Metabolite lgnc_e at 0x7f14394c30f0>]\n"
     ]
    }
   ],
   "source": [
    "for normoxic in [True,False]:\n",
    "    if normoxic == False:\n",
    "        pass\n",
    "    for carbon in new_carbons:\n",
    "        test=cobra.io.read_sbml_model('../GEMs/0349f526-7816-4a7d-9967-1f75dd9ff00a.xml')\n",
    "        #test.objective='r0173'\n",
    "        #test.objective='EX_atp_LPAREN_e_RPAREN_'\n",
    "        test.add_reaction(model.reactions.DM_atp_c_)\n",
    "        test.objective=test.reactions.DM_atp_c_.id\n",
    "        test.objective.direction='max'\n",
    "        test.solver='gurobi'\n",
    "        try:\n",
    "            print(test.reactions.get_by_id(carbon).reactants)\n",
    "            max_flux(test,normoxic,new_media,carbon)\n",
    "        except:\n",
    "            print(\"Carbon not found\", model.reactions.get_by_id(carbon).reactants)\n",
    "        "
   ]
  },
  {
   "cell_type": "code",
   "execution_count": null,
   "metadata": {
    "collapsed": true
   },
   "outputs": [],
   "source": [
    "for normoxic in [True,False]:\n",
    "    for carbon in new_carbons:\n",
    "        print(model.reactions.get_by_id(carbon).reaction)\n",
    "        model.objective='DM_atp_c'\n",
    "        max_flux(model,normoxic,new_media,carbon)"
   ]
  },
  {
   "cell_type": "code",
   "execution_count": null,
   "metadata": {
    "collapsed": true
   },
   "outputs": [],
   "source": [
    "test=cobra.io.read_sbml_model('../GEMs/0349f526-7816-4a7d-9967-1f75dd9ff00a.xml')\n",
    "#test.objective='r0173'\n",
    "test.objective='EX_atp_LPAREN_e_RPAREN_'\n",
    "test.objective.direction='max'\n",
    "test.solver='gurobi'\n",
    "max_flux(test,True,new_media,new_carbons[0])"
   ]
  },
  {
   "cell_type": "code",
   "execution_count": null,
   "metadata": {
    "collapsed": true
   },
   "outputs": [],
   "source": []
  }
 ],
 "metadata": {
  "kernelspec": {
   "display_name": "Python 3",
   "language": "python",
   "name": "python3"
  },
  "language_info": {
   "codemirror_mode": {
    "name": "ipython",
    "version": 3
   },
   "file_extension": ".py",
   "mimetype": "text/x-python",
   "name": "python",
   "nbconvert_exporter": "python",
   "pygments_lexer": "ipython3",
   "version": "3.6.3"
  }
 },
 "nbformat": 4,
 "nbformat_minor": 2
}
