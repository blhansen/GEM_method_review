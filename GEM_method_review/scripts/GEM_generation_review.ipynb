{
 "cells": [
  {
   "cell_type": "markdown",
   "metadata": {},
   "source": [
    "# Applying CORDA to make new GEMs\n",
    "## First we import necessary modules and define functions for later"
   ]
  },
  {
   "cell_type": "code",
   "execution_count": 1,
   "metadata": {
    "collapsed": true
   },
   "outputs": [],
   "source": [
    "import sys\n",
    "import cobra.io\n",
    "import corda\n",
    "import pandas as pd\n",
    "import re\n",
    "import numpy as np\n",
    "import gzip\n",
    "import pickle\n",
    "\n",
    "#Used to load pre-existing dictionaries which should be the same between different samples\n",
    "def load_obj(name ):\n",
    "    with open('../obj/' + name + '.pkl', 'rb') as f:\n",
    "        return pickle.load(f)\n",
    "\n",
    "#data from tcga follows format: SBML_id\\tFPKM_value\n",
    "#converts to: HGNC_id\\tFPKM_value\n",
    "#necessary because the genes encoded in recon2_2 follow HGNC format\n",
    "def translate_gene_exp_data(InFileName):\n",
    "    #import dictionary of associations between SBML gene IDs and HGNC gene IDs\n",
    "    sbml_ids=load_obj('sbml_ids')\n",
    "    \n",
    "    #create FPKM dict with structure: FPKM[HGNC]=FPKM_value\n",
    "    Data=[]\n",
    "    FPKM={}\n",
    "    exp=0\n",
    "    \n",
    "    InFile=open(InFileName,'r')\n",
    "    \n",
    "    for Line in InFile:\n",
    "        Line=str(Line)\n",
    "        Line=re.sub(\"'\",'',Line)\n",
    "        Line=re.sub(\"b\",'',Line)\n",
    "        Line=Line.strip(\"\\\\n\")\n",
    "        Data=Line.split(\"\\t\")\n",
    "        Data[0]=re.sub('\\.\\d+','',Data[0])\n",
    "        exp=float(Data[1])\n",
    "        Level=0\n",
    "        try:\n",
    "            FPKM[sbml_ids[Data[0]]]=exp\n",
    "        except:\n",
    "            pass\n",
    "        \n",
    "    InFile.close()\n",
    "    \n",
    "    return(FPKM)\n",
    "\n",
    "#input desired percentiles and returns list of associated values for a sample\n",
    "def find_percentile_values(FPKM,h,m,l):\n",
    "    #Filter through FPKM values in file\n",
    "    #Based on the distribution of values NOT EQUAL TO ZERO\n",
    "    #Defines confidence groups based on arguments passed in beginning of function\n",
    "    \n",
    "    FPKM_values=list(filter((0.0.__ne__),list(FPKM.values())))\n",
    "    \n",
    "    high_threshold=np.percentile(FPKM_values,h)\n",
    "    medium_threshold=np.percentile(FPKM_values,m)\n",
    "    low_threshold=np.percentile(FPKM_values,l)\n",
    "    \n",
    "    #print(low_threshold,medium_threshold,high_threshold)\n",
    "    return([high_threshold,medium_threshold,low_threshold])\n",
    "\n",
    "#generate dictionary with dict[gene]=conf_level\n",
    "def assign_confidence_scores(InFileName,h,m,l):\n",
    "    \n",
    "    FPKM=translate_gene_exp_data(InFileName)\n",
    "    thresholds=find_percentile_values(FPKM,h,m,l)\n",
    "    high=thresholds[0]\n",
    "    medium=thresholds[1]\n",
    "    low=thresholds[2]\n",
    "    \n",
    "    Levels={}\n",
    "    #Loops through HGNC keys in FPKM dict and creates new dict with\n",
    "    #Levels[HGNC]=confidence level\n",
    "    #High=3,Medium=2,Low=1,Unsure=0,Not_Detected=-1\n",
    "    for i in FPKM:\n",
    "        Level=0\n",
    "        value=FPKM[i]\n",
    "        if value>high:\n",
    "            Level=3\n",
    "        elif value>medium:\n",
    "            Level=2\n",
    "        elif value>low:\n",
    "            Level=1\n",
    "        #assume that values equal to exactly 0.0 were not accounted for\n",
    "        elif value>0:\n",
    "            Level=-1\n",
    "        #print(i,'\\t',value,'\\t',Level)\n",
    "        Levels[i]=Level\n",
    "    #Levels\n",
    "    return(Levels)\n",
    "\n",
    "#convert dict[gene]=conf_level into dict[reaction]=conf\n",
    "#utilizes corda.reaction_confidence from CORDA module\n",
    "def make_confidence_dict(GEM,Levels):\n",
    "    #generate reaction_conf dict which is creaction_conf[reaction_id]=reaction_confidence\n",
    "    #confidence levels are same as gene ones, but boolean gene reaction rules are used to filter reactions that are\n",
    "    #under the control of several genes\n",
    "    reaction_conf={}\n",
    "    for r in GEM.reactions:\n",
    "        reaction_conf[r.id]=corda.reaction_confidence(r.gene_reaction_rule,Levels)\n",
    "    return(reaction_conf)\n",
    "\n",
    "def make_OutFileName(InFileName):\n",
    "    #InFileName=re.sub('\\/data\\/NCBI\\/gene\\_exp\\_data\\/','',InFileName)\n",
    "    InFileName=re.sub('\\/samples\\/','',InFileName)\n",
    "    InFileName=InFileName.strip(\".FPKM.txt\")\n",
    "    InFileName=InFileName+\".xml\"\n",
    "    return(InFileName)\n",
    "\n"
   ]
  },
  {
   "cell_type": "markdown",
   "metadata": {},
   "source": [
    "## Here we define the path to the data that we are using to create this GEM"
   ]
  },
  {
   "cell_type": "code",
   "execution_count": 2,
   "metadata": {
    "collapsed": true
   },
   "outputs": [],
   "source": [
    "#Specify path to data file\n",
    "FileName=\"../samples/0349f526-7816-4a7d-9967-1f75dd9ff00a.FPKM.txt\"\n",
    "InFileName=FileName"
   ]
  },
  {
   "cell_type": "markdown",
   "metadata": {},
   "source": [
    "## Using the gene expression data, we will now classify each gene into confidence groups\n",
    "For this step, we consider the distribution of gene expression values in this sample to identify which genes are highly expressed. Other people tend to use fixed thresholds, but this ignores that the way FPKM is calculated is biased and an FPKM value of 100 could be interpreted differently in two samples.\n",
    "\n",
    "---\n",
    "\n",
    "# For the purposes of this document we have picked particular confidence group definitions, but we are still in the process of deciding what the best definitions are\n",
    "\n",
    "We assume that genes with an FPKM value of exactly 0 were not detected and place them into an 'Unknown' category (Level=0)\n",
    "\n",
    "For the remaining genes, we place genes that are above the 90th percentile in the 'High Confidence Category(Level=3). We place genes between the 90th and 70th percentile in the 'Medium Confidence' Category (Level=2) and genes between the 70th and 50th percentile in the 'Low Confidence Category' (Level=1), \n",
    "\n",
    "Genes below the 50th percentile, but with FPKM values not equal to exactly zero are places in a 'No Confidence' Category (Level=-1)."
   ]
  },
  {
   "cell_type": "code",
   "execution_count": 3,
   "metadata": {},
   "outputs": [],
   "source": [
    "#Assign Confidence Scores with levels defined by given parameters\n",
    "Levels=assign_confidence_scores(InFileName,90,70,50)"
   ]
  },
  {
   "cell_type": "markdown",
   "metadata": {},
   "source": [
    "## CORDA requires a base model to function. In our case, we are using recon2.2.\n",
    "This model is the most recent published model that should represent human metabolism. All of our samples are human cancer cells, so it should be an appropriate 'base model.'"
   ]
  },
  {
   "cell_type": "code",
   "execution_count": 4,
   "metadata": {},
   "outputs": [
    {
     "name": "stderr",
     "output_type": "stream",
     "text": [
      "cobra/io/sbml.py:235 \u001b[1;31mUserWarning\u001b[0m: M_h_x appears as a reactant and product FAOXC220200x\n"
     ]
    }
   ],
   "source": [
    "#import RECON2 Model\n",
    "recon2 = cobra.io.read_sbml_model(\"../GEMs/recon2_2.xml\")"
   ]
  },
  {
   "cell_type": "markdown",
   "metadata": {},
   "source": [
    "## We will now use built in functionality from CORDA to convert our gene confidence levels into Reaction confidence levels\n",
    "### These decisions are made using the boolean 'gene reaction rule' that is defined for each reaction"
   ]
  },
  {
   "cell_type": "code",
   "execution_count": 5,
   "metadata": {},
   "outputs": [],
   "source": [
    "#Make confidence dict\n",
    "reaction_conf = make_confidence_dict(recon2,Levels)"
   ]
  },
  {
   "cell_type": "markdown",
   "metadata": {},
   "source": [
    "## met_prod is a list of reactions that CORDA must leave functional(can carry flux)\n",
    "Reactions that follow the form 'metabolite -> ' are dummy reactions which represent movement inside/outside of system"
   ]
  },
  {
   "cell_type": "code",
   "execution_count": 6,
   "metadata": {},
   "outputs": [
    {
     "name": "stdout",
     "output_type": "stream",
     "text": [
      "['3pg_c ->', 'accoa_m -> coa_m', 'akg_m ->', 'e4p_c ->', 'f6p_c ->', 'g3p_c ->', 'g6p_c ->', 'oaa_m ->', 'pep_c ->', 'pyr_c ->', 'r5p_c ->', 'succoa_m -> coa_m', 'ala_L_c ->', 'arg_L_c ->', 'asn_L_c ->', 'asp_L_c ->', 'gln_L_c ->', 'glu_L_c ->', 'gly_c ->', 'pro_L_c ->', 'ser_L_c ->', 'ctp_c ->', 'utp_c ->', 'pmtcoa_c -> coa_c', 'chsterol_c ->', 'tag_hs_c ->', 'dag_hs_c ->', 'mag_hs_c ->', 'crm_hs_c ->', 'pa_hs_c ->', 'pe_hs_c ->', 'ps_hs_c ->']\n"
     ]
    }
   ],
   "source": [
    "#load list of required reactions\n",
    "met_prod=load_obj('met_prod')\n",
    "\n",
    "print(met_prod)"
   ]
  },
  {
   "cell_type": "markdown",
   "metadata": {},
   "source": [
    "## To function, CORDA requires:\n",
    "1. 'baseline' GEM\n",
    "2. A dictionary of reactions and confidence levels\n",
    "3. A list of reactions that we force CORDA to include in the model\n",
    "\n",
    "For #3,I am currently using a list of reactions that were used in the original Shultz paper, but I am wondering if this step is necessary \n",
    "# Should we let the data pick which reactions must carry flux or can we reasonably expect certain reactions to always be functional?\n",
    "## We have all of these, so we will run CORDA and make our GEM:"
   ]
  },
  {
   "cell_type": "code",
   "execution_count": 7,
   "metadata": {},
   "outputs": [
    {
     "name": "stdout",
     "output_type": "stream",
     "text": [
      "Building CORDA model...\n",
      "build status: reconstruction complete\n",
      "Inc. reactions: 2493/7817\n",
      " - unclear: 955/3197\n",
      " - exclude: 41/1190\n",
      " - low and medium: 442/2270\n",
      " - high: 1055/1160\n",
      "\n"
     ]
    }
   ],
   "source": [
    "#initialize CORDA object\n",
    "#model=recon2 'baseline' for your model, in this case recon2.2\n",
    "#conf= dict of genes and confidence levels they are present in tissue of interest\n",
    "# 3 = High Conf INCLUDE WHEN POSSIBLE through -1 = No Confidence EXCLUDE WHEN POSSIBLE\n",
    "# 0 = unknown conf\n",
    "model = corda.CORDA(recon2,reaction_conf,met_prod)\n",
    "#use CORDA algorithm to construct tissue-specific model\n",
    "#computationally intensive task, takes ~10 minutes\n",
    "print(\"Building CORDA model...\")\n",
    "model.build()\n",
    "print(model)"
   ]
  },
  {
   "cell_type": "markdown",
   "metadata": {},
   "source": [
    "## Now we convert our CORDA object into a COBRA object and save it for later.\n",
    "Note: CORDA is the algorithm which is used to systematically remove unsupported reactions from a general model. COBRA is the toolbox which we used to analyze GEMs and run FBA and its derivatives."
   ]
  },
  {
   "cell_type": "code",
   "execution_count": 8,
   "metadata": {
    "collapsed": true
   },
   "outputs": [],
   "source": [
    "#Manipulate InFileName for useful OutFileName for use at end of program\n",
    "exp_file=make_OutFileName(InFileName)\n",
    "#write COBRA model to computer\n",
    "out_model=model.cobra_model()\n",
    "OutFileName=\"../GEMs/\"+exp_file\n",
    "cobra.io.write_sbml_model(out_model,OutFileName)"
   ]
  },
  {
   "cell_type": "markdown",
   "metadata": {},
   "source": [
    "# Overall, there are two sets of parameters that will affect the reconstruction that CORDA will produce\n",
    "## 1. How we define confidence levels\n",
    "Currently, we have a few sets of GEMs generated with different values\n",
    "## 2. The list of reactions which CORDA is required to leave functional\n",
    "All of the GEMs created thus far are using 'met_prod' from Schultz 2016 Paper"
   ]
  },
  {
   "cell_type": "code",
   "execution_count": null,
   "metadata": {
    "collapsed": true
   },
   "outputs": [],
   "source": []
  }
 ],
 "metadata": {
  "kernelspec": {
   "display_name": "Python 3",
   "language": "python",
   "name": "python3"
  },
  "language_info": {
   "codemirror_mode": {
    "name": "ipython",
    "version": 3
   },
   "file_extension": ".py",
   "mimetype": "text/x-python",
   "name": "python",
   "nbconvert_exporter": "python",
   "pygments_lexer": "ipython3",
   "version": "3.6.3"
  }
 },
 "nbformat": 4,
 "nbformat_minor": 2
}
