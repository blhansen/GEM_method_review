{
 "cells": [
  {
   "cell_type": "code",
   "execution_count": 2,
   "metadata": {},
   "outputs": [],
   "source": [
    "#!/usr/bin/env python\n",
    "#usage: python corda_gdc_data_script -f FPKM_file_name -h High_Confidence_percentile -m Medium_Confidence_percentile -l Low_Confidence_percentile -id Run_id\n",
    "#ex: python corda_gdc_data_script -f 0349f526-7816-4a7d-9967-1f75dd9ff00a.xml -h 90 -m 80 -l 70 -r 4\n",
    "\n",
    "import sys\n",
    "import cobra.io\n",
    "import corda\n",
    "import pandas as pd\n",
    "import re\n",
    "import numpy as np\n",
    "import gzip\n",
    "import pickle\n",
    "\n",
    "#Used to load pre-existing dictionaries which should be the same between different samples\n",
    "def load_obj(name ):\n",
    "    with open('../obj/' + name + '.pkl', 'rb') as f:\n",
    "        return pickle.load(f)\n",
    "\n",
    "#data from tcga follows format: SBML_id\\tFPKM_value\n",
    "#converts to: HGNC_id\\tFPKM_value\n",
    "#necessary because the genes encoded in recon2_2 follow HGNC format\n",
    "def translate_gene_exp_data(InFileName):\n",
    "    #import dictionary of associations between SBML gene IDs and HGNC gene IDs\n",
    "    sbml_ids=load_obj('sbml_ids')\n",
    "    \n",
    "    #create FPKM dict with structure: FPKM[HGNC]=FPKM_value\n",
    "    Data=[]\n",
    "    FPKM={}\n",
    "    exp=0\n",
    "    \n",
    "    InFile=open(InFileName,'r')\n",
    "    \n",
    "    for Line in InFile:\n",
    "        Line=str(Line)\n",
    "        Line=re.sub(\"'\",'',Line)\n",
    "        Line=re.sub(\"b\",'',Line)\n",
    "        Line=Line.strip(\"\\\\n\")\n",
    "        Data=Line.split(\"\\t\")\n",
    "        Data[0]=re.sub('\\.\\d+','',Data[0])\n",
    "        exp=float(Data[1])\n",
    "        Level=0\n",
    "        try:\n",
    "            FPKM[sbml_ids[Data[0]]]=exp\n",
    "        except:\n",
    "            pass\n",
    "        \n",
    "    InFile.close()\n",
    "    \n",
    "    return(FPKM)\n",
    "\n",
    "#input desired percentiles and returns list of associated values for a sample\n",
    "def find_percentile_values(FPKM,h,m,l):\n",
    "    #Filter through FPKM values in file\n",
    "    #Based on the distribution of values NOT EQUAL TO ZERO\n",
    "    #Defines confidence groups based on arguments passed in beginning of function\n",
    "    \n",
    "    FPKM_values=list(filter((0.0.__ne__),list(FPKM.values())))\n",
    "    \n",
    "    high_threshold=np.percentile(FPKM_values,h)\n",
    "    medium_threshold=np.percentile(FPKM_values,m)\n",
    "    low_threshold=np.percentile(FPKM_values,l)\n",
    "    \n",
    "    #print(low_threshold,medium_threshold,high_threshold)\n",
    "    return([high_threshold,medium_threshold,low_threshold])\n",
    "\n",
    "#generate dictionary with dict[gene]=conf_level\n",
    "def assign_confidence_scores(InFileName,h,m,l):\n",
    "    \n",
    "    FPKM=translate_gene_exp_data(InFileName)\n",
    "    thresholds=find_percentile_values(FPKM,h,m,l)\n",
    "    high=thresholds[0]\n",
    "    medium=thresholds[1]\n",
    "    low=thresholds[2]\n",
    "    \n",
    "    Levels={}\n",
    "    #Loops through HGNC keys in FPKM dict and creates new dict with\n",
    "    #Levels[HGNC]=confidence level\n",
    "    #High=3,Medium=2,Low=1,Unsure=0,Not_Detected=-1\n",
    "    for i in FPKM:\n",
    "        Level=0\n",
    "        value=FPKM[i]\n",
    "        if value>high:\n",
    "            Level=3\n",
    "        elif value>medium:\n",
    "            Level=2\n",
    "        elif value>low:\n",
    "            Level=1\n",
    "        #assume that values equal to exactly 0.0 were not accounted for\n",
    "        elif value>0:\n",
    "            Level=-1\n",
    "        #print(i,'\\t',value,'\\t',Level)\n",
    "        Levels[i]=Level\n",
    "    #Levels\n",
    "    return(Levels)\n",
    "\n",
    "#convert dict[gene]=conf_level into dict[reaction]=conf\n",
    "#utilizes corda.reaction_confidence from CORDA module\n",
    "def make_confidence_dict(GEM,Levels):\n",
    "    #generate reaction_conf dict which is creaction_conf[reaction_id]=reaction_confidence\n",
    "    #confidence levels are same as gene ones, but boolean gene reaction rules are used to filter reactions that are\n",
    "    #under the control of several genes\n",
    "    reaction_conf={}\n",
    "    for r in GEM.reactions:\n",
    "        reaction_conf[r.id]=corda.reaction_confidence(r.gene_reaction_rule,Levels)\n",
    "    return(reaction_conf)\n",
    "\n",
    "def make_OutFileName(InFileName):\n",
    "    #InFileName=re.sub('\\/data\\/NCBI\\/gene\\_exp\\_data\\/','',InFileName)\n",
    "    InFileName=re.sub('\\/samples\\/','',InFileName)\n",
    "    InFileName=InFileName.strip(\".FPKM.txt\")\n",
    "    InFileName=InFileName+\".xml\"\n",
    "    return(InFileName)\n"
   ]
  },
  {
   "cell_type": "code",
   "execution_count": 3,
   "metadata": {},
   "outputs": [],
   "source": [
    "#Initialize h,m,l variables for use later in defining gene confidence groups\n",
    "h=0\n",
    "m=0\n",
    "l=0\n",
    "\n",
    "#loop through list of arguments and assign variables accordingly\n",
    "for i in range(len(sys.argv)):\n",
    "    if sys.argv[i]=='-f':\n",
    "        InFileName=sys.argv[i+1]\n",
    "    elif sys.argv[i]=='-h':\n",
    "        h=sys.argv[i+1]\n",
    "    elif sys.argv[i]=='-m':\n",
    "        m=sys.argv[i+1]\n",
    "    elif sys.argv[i]=='-l':\n",
    "        l=sys.argv[i+1]\n",
    "    elif sys.argv[i]=='-id':\n",
    "        run_id=sys.argv[i+1]"
   ]
  },
  {
   "cell_type": "code",
   "execution_count": 4,
   "metadata": {},
   "outputs": [],
   "source": [
    "#InFileName=\"../samples/0349f526-7816-4a7d-9967-1f75dd9ff00a.FPKM.txt\"\n",
    "#h=90\n",
    "#m=80\n",
    "#l=70\n",
    "#Assign Confidence Scores with levels defined by given parameters\n",
    "Levels=assign_confidence_scores(InFileName,h,m,l)"
   ]
  },
  {
   "cell_type": "code",
   "execution_count": 4,
   "metadata": {},
   "outputs": [
    {
     "name": "stderr",
     "output_type": "stream",
     "text": [
      "cobra/io/sbml.py:235 \u001b[1;31mUserWarning\u001b[0m: M_h_x appears as a reactant and product FAOXC220200x\n"
     ]
    }
   ],
   "source": [
    "#import RECON2 Model\n",
    "recon2 = cobra.io.read_sbml_model(\"../GEMs/recon2_2.xml\")"
   ]
  },
  {
   "cell_type": "code",
   "execution_count": 5,
   "metadata": {
    "collapsed": true
   },
   "outputs": [],
   "source": [
    "#Make confidence dict\n",
    "reaction_conf = make_confidence_dict(recon2,Levels)"
   ]
  },
  {
   "cell_type": "code",
   "execution_count": 6,
   "metadata": {},
   "outputs": [
    {
     "name": "stdout",
     "output_type": "stream",
     "text": [
      "['3pg_c ->', 'accoa_m -> coa_m', 'akg_m ->', 'e4p_c ->', 'f6p_c ->', 'g3p_c ->', 'g6p_c ->', 'oaa_m ->', 'pep_c ->', 'pyr_c ->', 'r5p_c ->', 'succoa_m -> coa_m', 'ala_L_c ->', 'arg_L_c ->', 'asn_L_c ->', 'asp_L_c ->', 'gln_L_c ->', 'glu_L_c ->', 'gly_c ->', 'pro_L_c ->', 'ser_L_c ->', 'ctp_c ->', 'utp_c ->', 'pmtcoa_c -> coa_c', 'chsterol_c ->', 'tag_hs_c ->', 'dag_hs_c ->', 'mag_hs_c ->', 'crm_hs_c ->', 'pa_hs_c ->', 'pe_hs_c ->', 'ps_hs_c ->']\n"
     ]
    }
   ],
   "source": [
    "#load list of required reactions\n",
    "#This is the suspect region of code, Moon. Look here.\n",
    "met_prod=load_obj('met_prod')\n",
    "\n",
    "#print(met_prod)"
   ]
  },
  {
   "cell_type": "code",
   "execution_count": 7,
   "metadata": {},
   "outputs": [
    {
     "name": "stdout",
     "output_type": "stream",
     "text": [
      "Building CORDA model...\n",
      "build status: reconstruction complete\n",
      "Inc. reactions: 2493/7817\n",
      " - unclear: 955/3197\n",
      " - exclude: 41/1190\n",
      " - low and medium: 442/2270\n",
      " - high: 1055/1160\n",
      "\n"
     ]
    }
   ],
   "source": [
    "#initialize CORDA object\n",
    "#model=recon2 'baseline' for your model, in this case recon2.2\n",
    "#conf= dict of genes and confidence levels they are present in tissue of interest\n",
    "# 3 = High Conf INCLUDE WHEN POSSIBLE through -1 = No Confidence EXCLUDE WHEN POSSIBLE\n",
    "# 0 = unknown conf\n",
    "model = corda.CORDA(recon2,reaction_conf,met_prod)\n",
    "#use CORDA algorithm to construct tissue-specific model\n",
    "#computationally intensive task, takes ~10 minutes\n",
    "print(\"Building CORDA model...\")\n",
    "model.build()\n",
    "print(model)"
   ]
  },
  {
   "cell_type": "code",
   "execution_count": 8,
   "metadata": {
    "collapsed": true
   },
   "outputs": [],
   "source": [
    "#Manipulate InFileName for useful OutFileName for use at end of program\n",
    "exp_file=make_OutFileName(InFileName)\n",
    "#write COBRA model to computer\n",
    "out_model=model.cobra_model()\n",
    "OutFileName=\"../GEMs/\"+exp_file\n",
    "cobra.io.write_sbml_model(out_model,OutFileName)\n",
    "print(\"GEM written to \" +OutFileName)"
   ]
  },
  {
   "cell_type": "code",
   "execution_count": null,
   "metadata": {
    "collapsed": true
   },
   "outputs": [],
   "source": [
    "#write csv that records which reactions are included in each model\n",
    "included=pd.DataFrame(data=list(dict(model.included).items()),columns=['Reaction','Included'])\n",
    "included.to_csv(path_or_buf=\"../data/results/set_\"+run_id+\"/\"+ exp_file.strip(\".xml\"))"
   ]
  }
 ],
 "metadata": {
  "kernelspec": {
   "display_name": "Python 3",
   "language": "python",
   "name": "python3"
  },
  "language_info": {
   "codemirror_mode": {
    "name": "ipython",
    "version": 3
   },
   "file_extension": ".py",
   "mimetype": "text/x-python",
   "name": "python",
   "nbconvert_exporter": "python",
   "pygments_lexer": "ipython3",
   "version": "3.6.3"
  }
 },
 "nbformat": 4,
 "nbformat_minor": 2
}
